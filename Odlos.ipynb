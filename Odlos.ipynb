{
 "cells": [
  {
   "cell_type": "code",
   "execution_count": 1,
   "id": "449a17b8-e999-4d7a-a4b8-b5bca45f45ed",
   "metadata": {
    "tags": []
   },
   "outputs": [],
   "source": [
    "import pandas as pd\n",
    "import numpy as np\n",
    "import chardet\n",
    "import math\n",
    "import random\n",
    "import datetime\n",
    "import sys\n",
    "from functools import partial\n",
    "import time\n",
    "\n",
    "np.set_printoptions(threshold=sys.maxsize)\n",
    "\n",
    "df = pd.read_csv('Podatki/movies.dat', sep='\\t', encoding='ISO-8859-1')"
   ]
  },
  {
   "cell_type": "code",
   "execution_count": 2,
   "id": "2eb3a88c-a4ec-4a5f-92e0-65bea1dbfe52",
   "metadata": {},
   "outputs": [],
   "source": [
    "class UserItemData:\n",
    "    def __init__(self, path, from_date='1-1-1900', to_date='1-1-2030', min_ratings=0):\n",
    "        self.path = path\n",
    "        self.from_date = from_date\n",
    "        self.to_date = to_date\n",
    "        self.min_ratings = min_ratings\n",
    "        self.data = pd.read_csv(path, sep='\\t', encoding='ISO-8859-1', usecols=[\"userID\", \"movieID\", \"rating\", \"date_day\", \"date_month\", \"date_year\"])\n",
    "        self.data = self.data.rename(columns={'date_day': 'day', 'date_month': 'month', 'date_year': 'year'})\n",
    "        \n",
    "        self.data['date'] = pd.to_datetime(self.data[['day', 'month', 'year']], dayfirst=True)\n",
    "        \n",
    "        f = partial(pd.to_datetime, dayfirst=True)\n",
    "        \n",
    "        mask = (self.data['date'] >= f(from_date)) & (self.data['date'] < f(to_date))\n",
    "        self.data = self.data.loc[mask]\n",
    "\n",
    "        if min_ratings > 0:\n",
    "        \n",
    "            movie_counts = self.data['movieID'].value_counts()\n",
    "            movies_to_remove = movie_counts[movie_counts < min_ratings].index\n",
    "            self.data = self.data[~self.data['movieID'].isin(movies_to_remove)]\n",
    "           \n",
    "\n",
    "    def nratings(self):\n",
    "        print(len(self.data.index()))"
   ]
  },
  {
   "cell_type": "code",
   "execution_count": 3,
   "id": "bbfe41eb-a054-4acd-886a-d3d9e8716c1a",
   "metadata": {},
   "outputs": [
    {
     "name": "stdout",
     "output_type": "stream",
     "text": [
      "855598\n",
      "73584\n"
     ]
    }
   ],
   "source": [
    "uim = UserItemData('Podatki/user_ratedmovies.dat', min_ratings=0)\n",
    "\n",
    "print(len(uim.data.index))\n",
    "\n",
    "uim = UserItemData('Podatki/user_ratedmovies.dat', from_date = '12.1.2007', to_date='16.2.2008', min_ratings=100)\n",
    "\n",
    "print(len(uim.data.index))\n"
   ]
  },
  {
   "cell_type": "code",
   "execution_count": 4,
   "id": "b423e6ce-51be-4bff-a90c-4b6a28f981d8",
   "metadata": {
    "tags": []
   },
   "outputs": [],
   "source": [
    "class MovieData:\n",
    "    def __init__(self, path):\n",
    "        self.path = path\n",
    "        self.data = pd.read_csv(path, sep='\\t', encoding='ISO-8859-1')\n",
    "        \n",
    "    def get_title(self, mid):\n",
    "        return self.data.loc[self.data['id'] == mid, 'title'].iloc[0]"
   ]
  },
  {
   "cell_type": "code",
   "execution_count": 5,
   "id": "cd5577e3-f11a-47a2-a976-5c092f898d12",
   "metadata": {
    "tags": []
   },
   "outputs": [
    {
     "name": "stdout",
     "output_type": "stream",
     "text": [
      "Toy story\n"
     ]
    }
   ],
   "source": [
    "md = MovieData('Podatki/movies.dat')\n",
    "print(md.get_title(1))"
   ]
  },
  {
   "cell_type": "code",
   "execution_count": 6,
   "id": "c71e179b-61b4-45ec-b00c-a5e28a2d8137",
   "metadata": {},
   "outputs": [],
   "source": [
    "class RandomPredictor:\n",
    "    def __init__(self, mino, maxo):\n",
    "        self.mino = mino\n",
    "        self.maxo = maxo\n",
    "    \n",
    "    def fit(self, x):\n",
    "        user_data = x\n",
    "        \n",
    "    def predict(self, user_id):\n",
    "        output = {}\n",
    "        for x in md.data['id']:\n",
    "            output[x] = random.randint(self.mino, self.maxo)\n",
    "        return output\n",
    "    "
   ]
  },
  {
   "cell_type": "code",
   "execution_count": 7,
   "id": "f27a6c64-2d35-4087-a17a-6157d60bc476",
   "metadata": {
    "tags": []
   },
   "outputs": [
    {
     "name": "stdout",
     "output_type": "stream",
     "text": [
      "<class 'dict'>\n",
      "Film: Toy story, ocena: 5\n",
      "Film: Grumpy Old Men, ocena: 4\n",
      "Film: Money Train, ocena: 5\n",
      "Film: The Usual Suspects, ocena: 5\n",
      "Film: City Hall, ocena: 4\n"
     ]
    }
   ],
   "source": [
    "md = MovieData('Podatki/movies.dat')\n",
    "uim = UserItemData('Podatki/user_ratedmovies.dat')\n",
    "rp = RandomPredictor(1, 5)\n",
    "rp.fit(uim)\n",
    "pred = rp.predict(78)\n",
    "print(type(pred))\n",
    "items = [1, 3, 20, 50, 100]\n",
    "for item in items:\n",
    "    print(\"Film: {}, ocena: {}\".format(md.get_title(item), pred[item]))"
   ]
  },
  {
   "cell_type": "code",
   "execution_count": 8,
   "id": "6895c0fa-1ddd-4c33-bb8c-7c5db1e619ce",
   "metadata": {
    "tags": []
   },
   "outputs": [],
   "source": [
    "class Recommender:\n",
    "    def __init__(self, predictor):\n",
    "        self.predictor = predictor\n",
    "\n",
    "    def fit(self, x):\n",
    "        user_data = x\n",
    "\n",
    "    def recommend(self, user_id, n=10, rec_seen=True):\n",
    "        user_ratings = self.predictor.predict(user_id)\n",
    "        \n",
    "        if not rec_seen:\n",
    "            seen_id = uim.data.query('userID == @user_id')['movieID']\n",
    "            for key in list(seen_id):\n",
    "                user_ratings.pop(key, None)\n",
    "            \n",
    "        n_recommendations = sorted(user_ratings.items(), key=lambda x: x[1], reverse=True)[:n]\n",
    "\n",
    "        return n_recommendations\n"
   ]
  },
  {
   "cell_type": "code",
   "execution_count": 9,
   "id": "8e1a91cc-efbc-41ff-b9d2-2989330a5ab8",
   "metadata": {
    "tags": []
   },
   "outputs": [
    {
     "name": "stdout",
     "output_type": "stream",
     "text": [
      "Film: Tom and Huck, ocena: 5\n",
      "Film: GoldenEye, ocena: 5\n",
      "Film: Balto, ocena: 5\n",
      "Film: Casino, ocena: 5\n",
      "Film: Wings of Courage, ocena: 5\n"
     ]
    }
   ],
   "source": [
    "md = MovieData('Podatki/movies.dat')\n",
    "uim = UserItemData('Podatki/user_ratedmovies.dat')\n",
    "rp = RandomPredictor(1, 5)\n",
    "rec = Recommender(rp)\n",
    "rec.fit(uim)\n",
    "rec_items = rec.recommend(78, n=5, rec_seen=False)\n",
    "for idmovie, val in rec_items:\n",
    "    print(\"Film: {}, ocena: {}\".format(md.get_title(idmovie), val))  "
   ]
  },
  {
   "cell_type": "code",
   "execution_count": 10,
   "id": "fa6d5f52-a0c5-4b62-828e-a2717a34f2aa",
   "metadata": {
    "tags": []
   },
   "outputs": [],
   "source": [
    "class AveragePredictor:\n",
    "    def __init__(self, b):\n",
    "        if b < 0:\n",
    "            raise ValueError(\"Parameter b mora biti večji ali enak 0.\")\n",
    "        self.b = b\n",
    "        self.movies = {}\n",
    "\n",
    "    def fit(self):\n",
    "        na = 0\n",
    "        n = 0\n",
    "        vs = 0\n",
    "        g_avg = 0\n",
    "        movie_avg = {}\n",
    "        \n",
    "        for x in md.data['id']:\n",
    "            n = len(uim.data[(uim.data['movieID'] == x)])\n",
    "            na += n\n",
    "            vs = uim.data.loc[uim.data['movieID'] == x, 'rating'].sum()\n",
    "            g_avg += vs\n",
    "            movie_avg[x] = [n,vs]\n",
    "        \n",
    "        for x in movie_avg:\n",
    "            self.movies[x] = (movie_avg[x][1] + self.b * (g_avg / na)) / (movie_avg[x][0] + self.b)\n",
    "            \n",
    "        return self.movies"
   ]
  },
  {
   "cell_type": "code",
   "execution_count": 11,
   "id": "1a301eed-ead7-486d-ac40-57a563a68ca7",
   "metadata": {
    "tags": []
   },
   "outputs": [
    {
     "name": "stdout",
     "output_type": "stream",
     "text": [
      "Film: The Shawshank Redemption, ocena: 4.305187875177615\n",
      "Film: The Godfather, ocena: 4.262394259034606\n",
      "Film: The Usual Suspects, ocena: 4.225944245560473\n",
      "Film: Fight Club, ocena: 4.199670479562388\n",
      "Film: Pulp Fiction, ocena: 4.189550712063961\n",
      "Film: The Godfather: Part II, ocena: 4.146907937910189\n",
      "Film: Dr. Strangelove or: How I Learned to Stop Worrying and Love the Bomb, ocena: 4.1415016089689\n",
      "Film: Casablanca, ocena: 4.13585807902886\n",
      "Film: The Matrix, ocena: 4.1323697828523756\n",
      "Film: Memento, ocena: 4.131545433555425\n"
     ]
    }
   ],
   "source": [
    "md = MovieData('Podatki/movies.dat')\n",
    "uim = UserItemData('Podatki/user_ratedmovies.dat')\n",
    "ap = AveragePredictor(100)\n",
    "ddd = ap.fit()\n",
    "ddd = {k: v for k, v in sorted(ddd.items(), key=lambda item: item[1], reverse=True)}\n",
    "i = 0\n",
    "for x in ddd:\n",
    "    print(\"Film: {}, ocena: {}\".format(md.get_title(x), ddd[x]))  \n",
    "    i+=1\n",
    "    if i == 10:\n",
    "        break"
   ]
  },
  {
   "cell_type": "code",
   "execution_count": 12,
   "id": "9054f992-4600-4d8b-a592-973338de23ed",
   "metadata": {
    "tags": []
   },
   "outputs": [],
   "source": [
    "class ViewPredictor:\n",
    "    def __init__(self, mdata):\n",
    "        self.movies = mdata\n",
    "        \n",
    "    def fit(self):\n",
    "        movies = {}\n",
    "        for x in self.movies.data['id']:\n",
    "            movies[x] = len(uim.data[(uim.data['movieID'] == x)])\n",
    "        return movies"
   ]
  },
  {
   "cell_type": "code",
   "execution_count": 13,
   "id": "eb171570-63fd-420e-b00f-3dc3991baac1",
   "metadata": {
    "tags": []
   },
   "outputs": [
    {
     "name": "stdout",
     "output_type": "stream",
     "text": [
      "Film: The Matrix, ocena: 1670\n",
      "Film: The Lord of the Rings: The Fellowship of the Ring, ocena: 1576\n",
      "Film: Forrest Gump, ocena: 1568\n",
      "Film: Pulp Fiction, ocena: 1537\n",
      "Film: The Lord of the Rings: The Two Towers, ocena: 1528\n",
      "Film: American Beauty, ocena: 1472\n",
      "Film: The Lord of the Rings: The Return of the King, ocena: 1457\n",
      "Film: Jurassic Park, ocena: 1448\n",
      "Film: The Shawshank Redemption, ocena: 1441\n",
      "Film: Fight Club, ocena: 1434\n"
     ]
    }
   ],
   "source": [
    "vp = ViewPredictor(md)\n",
    "ddd = vp.fit()\n",
    "ddd = {k: v for k, v in sorted(ddd.items(), key=lambda item: item[1], reverse=True)}\n",
    "i = 0\n",
    "for x in ddd:\n",
    "    print(\"Film: {}, ocena: {}\".format(md.get_title(x), ddd[x]))  \n",
    "    i+=1\n",
    "    if i == 10:\n",
    "        break\n",
    "        \n",
    "md = MovieData('Podatki/movies.dat')\n",
    "uim = UserItemData('Podatki/user_ratedmovies.dat', min_ratings=1000)\n"
   ]
  },
  {
   "cell_type": "code",
   "execution_count": 14,
   "id": "d5d02f49-f616-4d2e-a452-83d064cd0bc7",
   "metadata": {
    "tags": []
   },
   "outputs": [],
   "source": [
    "user_averages = uim.data.groupby('userID')['rating'].mean()\n",
    "user_averages = pd.DataFrame(user_averages).reset_index()\n",
    "user_averages.columns = ['userID', 'avgRating']"
   ]
  },
  {
   "cell_type": "code",
   "execution_count": 15,
   "id": "5b2d4486-6e04-47f0-915d-47a77956e3dd",
   "metadata": {
    "tags": []
   },
   "outputs": [],
   "source": [
    "from numpy import dot\n",
    "from numpy.linalg import norm\n",
    "\n",
    "simA = uim.data['userID'].unique()\n",
    "simB = md.data['id'].unique()\n",
    "\n",
    "r_table = uim.data.pivot(index='userID', columns='movieID', values='rating').fillna(0)\n",
    "r_table = r_table.transpose()\n",
    "\n",
    "class ItemBasedPredictor:\n",
    "    def __init__(self, min_values=0, threshold=0):\n",
    "        self.min_values = min_values\n",
    "        self.threshold = threshold\n",
    "    \n",
    "    #def fit(self, x):\n",
    "        \n",
    "    def predict(self, user_id):\n",
    "        not_movies = uim.data.loc[uim.data['userID'] != user_id, 'movieID']\n",
    "        yes_movies = uim.data.loc[uim.data['userID'] == user_id, ['movieID', 'rating']]\n",
    "        predicted_ratings = {}\n",
    "        for x in not_movies.unique():\n",
    "            simsum = 0\n",
    "            calsum = 0\n",
    "            for y, rating_y in yes_movies.itertuples(index=False):\n",
    "                sim = self.similarity(x,y)\n",
    "                cal = sim * rating_y\n",
    "                simsum += sim\n",
    "                calsum += cal\n",
    "            predicted_ratings[x] = calsum / simsum if simsum != 0 else 0\n",
    "        return predicted_ratings\n",
    "            \n",
    "    def similarity(self, p1, p2):\n",
    "      \n",
    "        a = r_table.loc[p1]\n",
    "        b = r_table.loc[p2]\n",
    "        \n",
    "        d1 = pd.DataFrame(a[a!=0.0]).reset_index()\n",
    "        d1.columns = ['userID', 'rating']\n",
    "\n",
    "        \n",
    "        d2 = pd.DataFrame(b[b!=0.0]).reset_index()\n",
    "        d2.columns = ['userID', 'rating']\n",
    "\n",
    "        \n",
    "        t = pd.merge(d1, d2, how ='inner', on = ['userID']) \n",
    "\n",
    "        \n",
    "        user_averages_dict = user_averages.set_index('userID')['avgRating'].to_dict()\n",
    "\n",
    "        t['rating_x'] -= t['userID'].map(user_averages_dict)\n",
    "        t['rating_y'] -= t['userID'].map(user_averages_dict)  \n",
    "        \n",
    "        \n",
    "        g = np.round(np.dot(t['rating_x'], t['rating_y']), 5)\n",
    "        h = np.sqrt(np.sum(t['rating_x']**2))\n",
    "        j = np.sqrt(np.sum(t['rating_y']**2))\n",
    "       \n",
    "        sim = g/(j*h)\n",
    "         \n",
    "        if sim < 0 or sim < self.threshold:\n",
    "            sim = 0\n",
    "        \n",
    "        \n",
    "        return sim\n",
    "        \n",
    "    def similarItems(self, item, n):\n",
    "        similarities = {}\n",
    "        for other_item in r_table.index:\n",
    "            if other_item != item:\n",
    "                sim = self.similarity(item, other_item)\n",
    "                if sim > 0:\n",
    "                    similarities[other_item] = sim\n",
    "\n",
    "        sorted_similarities = sorted(similarities.items(), key=lambda x: x[1], reverse=True)\n",
    "\n",
    "        return sorted_similarities[:n]\n",
    "        \n",
    "        "
   ]
  },
  {
   "cell_type": "code",
   "execution_count": 16,
   "id": "1042bb8f-8100-4828-9a43-cb33af9b5513",
   "metadata": {
    "tags": []
   },
   "outputs": [
    {
     "name": "stdout",
     "output_type": "stream",
     "text": [
      "Podobnost med filmoma 'Men in black'(1580) in 'Ghostbusters'(2716):  0.23395524060890824\n",
      "Podobnost med filmoma 'Men in black'(1580) in 'Schindler's List'(527):  0\n",
      "Podobnost med filmoma 'Men in black'(1580) in 'Independence day'(780):  0.42466125761831625\n",
      "Predictions for 78: \n",
      "Film: Shichinin no samurai, ocena: 4.355734786086912\n",
      "Film: The Usual Suspects, ocena: 4.354681725758536\n",
      "Film: The Silence of the Lambs, ocena: 4.33530530623781\n",
      "Film: Sin City, ocena: 4.2786871755488916\n",
      "Film: Monsters, Inc., ocena: 4.217581212814615\n",
      "Film: The Incredibles, ocena: 4.207098578274632\n",
      "Film: The Lord of the Rings: The Fellowship of the Ring, ocena: 4.152792103339418\n",
      "Film: Batman Begins, ocena: 4.146413774029916\n",
      "Film: Die Hard, ocena: 4.125915607794364\n",
      "Film: Rain Man, ocena: 4.07153524325333\n",
      "Film: The Lord of the Rings: The Return of the King, ocena: 4.020237450065553\n",
      "Film: A Beautiful Mind, ocena: 4.015142491419475\n",
      "Film: Good Will Hunting, ocena: 4.009280798479942\n",
      "Film: The Lord of the Rings: The Two Towers, ocena: 3.9414762992929795\n",
      "Film: Indiana Jones and the Last Crusade, ocena: 3.7969765021526385\n"
     ]
    }
   ],
   "source": [
    "rp = ItemBasedPredictor()\n",
    "rec = Recommender(rp)\n",
    "\n",
    "rec.fit(uim)\n",
    "start_time = time.time()\n",
    "print(\"Podobnost med filmoma 'Men in black'(1580) in 'Ghostbusters'(2716): \", rp.similarity(1580, 2716))\n",
    "print(\"Podobnost med filmoma 'Men in black'(1580) in 'Schindler's List'(527): \", rp.similarity(1580, 527))\n",
    "print(\"Podobnost med filmoma 'Men in black'(1580) in 'Independence day'(780): \", rp.similarity(1580, 780))\n",
    "\n",
    "print(\"Predictions for 78: \")\n",
    "rec_items = rec.recommend(78, n=15, rec_seen=False)\n",
    "for idmovie, val in rec_items:\n",
    "    print(\"Film: {}, ocena: {}\".format(md.get_title(idmovie), val))\n",
    "\n"
   ]
  },
  {
   "cell_type": "code",
   "execution_count": 17,
   "id": "988650dc-3bed-493b-b428-6150e001c7f3",
   "metadata": {},
   "outputs": [
    {
     "name": "stdout",
     "output_type": "stream",
     "text": [
      "Film1: The Lord of the Rings: The Two Towers, Film2: The Lord of the Rings: The Return of the King, with distance of 0.8439842185399856:\n",
      "Film1: The Lord of the Rings: The Return of the King, Film2: The Lord of the Rings: The Two Towers, with distance of 0.8439842185399856:\n",
      "Film1: The Lord of the Rings: The Fellowship of the Ring, Film2: The Lord of the Rings: The Two Towers, with distance of 0.823188537760604:\n",
      "Film1: The Lord of the Rings: The Two Towers, Film2: The Lord of the Rings: The Fellowship of the Ring, with distance of 0.823188537760604:\n",
      "Film1: The Lord of the Rings: The Fellowship of the Ring, Film2: The Lord of the Rings: The Return of the King, with distance of 0.8079374901422762:\n",
      "Film1: The Lord of the Rings: The Return of the King, Film2: The Lord of the Rings: The Fellowship of the Ring, with distance of 0.8079374901422762:\n",
      "Film1: Kill Bill: Vol. 2, Film2: Kill Bill: Vol. 2, with distance of 0.7372340163907803:\n",
      "Film1: Kill Bill: Vol. 2, Film2: Kill Bill: Vol. 2, with distance of 0.7372340163907803:\n",
      "Film1: Star Wars, Film2: Star Wars: Episode V - The Empire Strikes Back, with distance of 0.7021321169621311:\n",
      "Film1: Star Wars: Episode V - The Empire Strikes Back, Film2: Star Wars, with distance of 0.7021321169621311:\n",
      "Film1: Ace Ventura: Pet Detective, Film2: The Mask, with distance of 0.6616471747056704:\n",
      "Film1: The Mask, Film2: Ace Ventura: Pet Detective, with distance of 0.6616471747056704:\n",
      "Film1: Star Wars: Episode V - The Empire Strikes Back, Film2: Star Wars: Episode VI - Return of the Jedi, with distance of 0.5992253679074748:\n",
      "Film1: Star Wars: Episode VI - Return of the Jedi, Film2: Star Wars: Episode V - The Empire Strikes Back, with distance of 0.5992253679074748:\n",
      "Film1: Independence Day, Film2: Star Wars: Episode I - The Phantom Menace, with distance of 0.5610426195652887:\n",
      "Film1: Star Wars: Episode I - The Phantom Menace, Film2: Independence Day, with distance of 0.5610426195652887:\n",
      "Film1: Ace Ventura: Pet Detective, Film2: Austin Powers: The Spy Who Shagged Me, with distance of 0.5546511178964046:\n",
      "Film1: Austin Powers: The Spy Who Shagged Me, Film2: Ace Ventura: Pet Detective, with distance of 0.5546511178964046:\n",
      "Film1: Star Wars, Film2: Star Wars: Episode VI - Return of the Jedi, with distance of 0.5537849373005462:\n",
      "Film1: Star Wars: Episode VI - Return of the Jedi, Film2: Star Wars, with distance of 0.5537849373005462:\n",
      "Film1: Speed, Film2: Pretty Woman, with distance of 0.545228316835551:\n"
     ]
    }
   ],
   "source": [
    "sim_table = {}\n",
    "mmmid = uim.data['movieID'].unique()\n",
    "\n",
    "for x in mmmid:\n",
    "    for y in mmmid:\n",
    "        if x != y:\n",
    "            sim_table[x,y] = rp.similarity(x,y)\n",
    "\n",
    "        \n",
    "sim_table = {k: v for k, v in sorted(sim_table.items(), key=lambda item: item[1], reverse=True)}\n",
    "\n",
    "i = 0\n",
    "for x in sim_table:\n",
    "    if i > 20:\n",
    "        break\n",
    "    print('Film1: {0}, Film2: {1}, with distance of {2}:'.format(md.get_title(x[0]), md.get_title(x[1]), sim_table[x]))\n",
    "    i += 1"
   ]
  },
  {
   "cell_type": "code",
   "execution_count": 18,
   "id": "d8f6b5a7-f4e7-464d-92ae-c918ab9c61d2",
   "metadata": {},
   "outputs": [
    {
     "name": "stdout",
     "output_type": "stream",
     "text": [
      "Filmi podobni \"The Lord of the Rings: The Fellowship of the Ring\": \n",
      "Film: The Lord of the Rings: The Two Towers, ocena: 0.823188537760604\n",
      "Film: The Lord of the Rings: The Return of the King, ocena: 0.8079374901422762\n",
      "Film: Star Wars: Episode V - The Empire Strikes Back, ocena: 0.23961943573520353\n",
      "Film: Star Wars, ocena: 0.21965587034346667\n",
      "Film: The Matrix, ocena: 0.21515552600232538\n",
      "Film: Raiders of the Lost Ark, ocena: 0.19944277300895646\n",
      "Film: The Usual Suspects, ocena: 0.18321189048778952\n",
      "Film: Blade Runner, ocena: 0.16399680985513243\n",
      "Film: Schindler's List, ocena: 0.16105905741680648\n",
      "Film: Monty Python and the Holy Grail, ocena: 0.15780453242922818\n"
     ]
    }
   ],
   "source": [
    "rec_items = rp.similarItems(4993, 10)\n",
    "print('Filmi podobni \"The Lord of the Rings: The Fellowship of the Ring\": ')\n",
    "for idmovie, val in rec_items:\n",
    "    print(\"Film: {}, ocena: {}\".format(md.get_title(idmovie), val))"
   ]
  }
 ],
 "metadata": {
  "kernelspec": {
   "display_name": "Python 3 (ipykernel)",
   "language": "python",
   "name": "python3"
  },
  "language_info": {
   "codemirror_mode": {
    "name": "ipython",
    "version": 3
   },
   "file_extension": ".py",
   "mimetype": "text/x-python",
   "name": "python",
   "nbconvert_exporter": "python",
   "pygments_lexer": "ipython3",
   "version": "3.10.7"
  }
 },
 "nbformat": 4,
 "nbformat_minor": 5
}
